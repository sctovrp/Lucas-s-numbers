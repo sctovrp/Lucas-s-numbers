{
 "cells": [
  {
   "cell_type": "markdown",
   "metadata": {},
   "source": [
    "# Los numeros de lucas\n",
    "\n",
    "Los números de Lucas están relacionado con los números de Fibonacci, y están definidos por la siguiente secuencia $L_{n+2} = L_{n+1} + L_{n}$, $L_0=2$, $L_1=1$. Escriba un programa que imprima la siguiente información. El 18-th número de Lucas, el número de Lucas más cercano a 1000, y el primer número de Lucas más grande que 100."
   ]
  },
  {
   "cell_type": "markdown",
   "metadata": {},
   "source": [
    "**Generacion de los numeros**"
   ]
  },
  {
   "cell_type": "code",
   "execution_count": 21,
   "metadata": {},
   "outputs": [
    {
     "name": "stdout",
     "output_type": "stream",
     "text": [
      "1  =  1\n",
      "2  =  2\n",
      "3  =  3\n",
      "4  =  5\n",
      "5  =  8\n",
      "6  =  13\n",
      "7  =  21\n",
      "8  =  34\n",
      "9  =  55\n",
      "10  =  89\n",
      "11  =  144\n",
      "12  =  233\n",
      "13  =  377\n",
      "14  =  610\n",
      "15  =  987\n",
      "16  =  1597\n",
      "17  =  2584\n",
      "18  =  4181\n",
      "19  =  6765\n",
      "20  =  10946\n",
      "21  =  17711\n",
      "22  =  28657\n",
      "23  =  46368\n",
      "24  =  75025\n",
      "25  =  121393\n",
      "26  =  196418\n",
      "27  =  317811\n",
      "28  =  514229\n",
      "29  =  832040\n",
      "30  =  1346269\n",
      "31  =  2178309\n",
      "32  =  3524578\n",
      "33  =  5702887\n",
      "34  =  9227465\n",
      "35  =  14930352\n",
      "36  =  24157817\n",
      "37  =  39088169\n",
      "38  =  63245986\n",
      "39  =  102334155\n",
      "40  =  165580141\n",
      "41  =  267914296\n",
      "42  =  433494437\n",
      "43  =  701408733\n",
      "44  =  1134903170\n",
      "45  =  1836311903\n",
      "46  =  2971215073\n",
      "47  =  4807526976\n",
      "48  =  7778742049\n",
      "49  =  12586269025\n",
      "50  =  20365011074\n",
      "51  =  32951280099\n",
      "52  =  53316291173\n",
      "53  =  86267571272\n",
      "54  =  139583862445\n"
     ]
    }
   ],
   "source": [
    "from functools import lru_cache\n",
    "\n",
    "@lru_cache(maxsize = 1000)\n",
    "def calculateLucasNumber(n):    \n",
    "    if type(n) != int:\n",
    "        raise TypeError(\"n must be a positive integer\")\n",
    "    if n < 1:\n",
    "        raise TypeError(\"n must be a positive integer\")\n",
    "    lCero = 1\n",
    "    lUno = 2\n",
    "    #compute the n-th term using a recursive method\n",
    "    if n == 1:\n",
    "        return lCero\n",
    "    elif n == 2:\n",
    "        return lUno\n",
    "    elif n > 2:\n",
    "        return calculateLucasNumber(n - 1) + calculateLucasNumber(n - 2)\n",
    "\n",
    "#Print from first number to 55-th number    \n",
    "for n in range(1, 55):\n",
    "    print(n, \" = \", calculateLucasNumber(n))\n"
   ]
  },
  {
   "cell_type": "code",
   "execution_count": 22,
   "metadata": {},
   "outputs": [
    {
     "name": "stdout",
     "output_type": "stream",
     "text": [
      "18  :  4181\n"
     ]
    }
   ],
   "source": [
    "print (18, \" : \" , calculateLucasNumber(18))"
   ]
  },
  {
   "cell_type": "code",
   "execution_count": 23,
   "metadata": {},
   "outputs": [
    {
     "name": "stdout",
     "output_type": "stream",
     "text": [
      "15  =  987\n"
     ]
    }
   ],
   "source": [
    "for n in range(1, 100):\n",
    "    termValue = calculateLucasNumber(n)\n",
    "    if termValue >= 1000:\n",
    "        print(n - 1, \" = \",calculateLucasNumber(n - 1))\n",
    "        break"
   ]
  },
  {
   "cell_type": "code",
   "execution_count": 24,
   "metadata": {},
   "outputs": [
    {
     "name": "stdout",
     "output_type": "stream",
     "text": [
      "11  =  144\n"
     ]
    }
   ],
   "source": [
    "for n in range(1, 100):\n",
    "    termValue = calculateLucasNumber(n)\n",
    "    if termValue > 100:\n",
    "        print(n, \" = \",termValue)\n",
    "        break"
   ]
  }
 ],
 "metadata": {
  "kernelspec": {
   "display_name": "Python 3",
   "language": "python",
   "name": "python3"
  },
  "language_info": {
   "codemirror_mode": {
    "name": "ipython",
    "version": 3
   },
   "file_extension": ".py",
   "mimetype": "text/x-python",
   "name": "python",
   "nbconvert_exporter": "python",
   "pygments_lexer": "ipython3",
   "version": "3.7.6"
  }
 },
 "nbformat": 4,
 "nbformat_minor": 4
}
